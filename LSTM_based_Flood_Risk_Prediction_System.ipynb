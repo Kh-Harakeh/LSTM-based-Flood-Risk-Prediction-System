{
  "nbformat": 4,
  "nbformat_minor": 0,
  "metadata": {
    "colab": {
      "provenance": [],
      "authorship_tag": "ABX9TyMOGxnBH0Kvv3iLa1EhzdYf",
      "include_colab_link": true
    },
    "kernelspec": {
      "name": "python3",
      "display_name": "Python 3"
    },
    "language_info": {
      "name": "python"
    },
    "widgets": {
      "application/vnd.jupyter.widget-state+json": {
        "8fd31cb20082466eae0bae9325c89b6e": {
          "model_module": "@jupyter-widgets/controls",
          "model_name": "HBoxModel",
          "model_module_version": "1.5.0",
          "state": {
            "_dom_classes": [],
            "_model_module": "@jupyter-widgets/controls",
            "_model_module_version": "1.5.0",
            "_model_name": "HBoxModel",
            "_view_count": null,
            "_view_module": "@jupyter-widgets/controls",
            "_view_module_version": "1.5.0",
            "_view_name": "HBoxView",
            "box_style": "",
            "children": [
              "IPY_MODEL_c2b6522a27744d9a84d1778a137ab1bb",
              "IPY_MODEL_76519c72e83b4efca09d92685003d969",
              "IPY_MODEL_dc84ae786eff47e7a71056dd67d91500"
            ],
            "layout": "IPY_MODEL_11767b1e916543dcb3a53f4cc968d3a0"
          }
        },
        "c2b6522a27744d9a84d1778a137ab1bb": {
          "model_module": "@jupyter-widgets/controls",
          "model_name": "HTMLModel",
          "model_module_version": "1.5.0",
          "state": {
            "_dom_classes": [],
            "_model_module": "@jupyter-widgets/controls",
            "_model_module_version": "1.5.0",
            "_model_name": "HTMLModel",
            "_view_count": null,
            "_view_module": "@jupyter-widgets/controls",
            "_view_module_version": "1.5.0",
            "_view_name": "HTMLView",
            "description": "",
            "description_tooltip": null,
            "layout": "IPY_MODEL_745b5a0e4118447b94c13bced00dc54b",
            "placeholder": "​",
            "style": "IPY_MODEL_da605233804942e5aac17e9c2723d157",
            "value": "100%"
          }
        },
        "76519c72e83b4efca09d92685003d969": {
          "model_module": "@jupyter-widgets/controls",
          "model_name": "FloatProgressModel",
          "model_module_version": "1.5.0",
          "state": {
            "_dom_classes": [],
            "_model_module": "@jupyter-widgets/controls",
            "_model_module_version": "1.5.0",
            "_model_name": "FloatProgressModel",
            "_view_count": null,
            "_view_module": "@jupyter-widgets/controls",
            "_view_module_version": "1.5.0",
            "_view_name": "ProgressView",
            "bar_style": "success",
            "description": "",
            "description_tooltip": null,
            "layout": "IPY_MODEL_b322b33d135647f3a3c8007977caaffd",
            "max": 5,
            "min": 0,
            "orientation": "horizontal",
            "style": "IPY_MODEL_f36ad5c34f5d4de2ae17794a6432bf8f",
            "value": 5
          }
        },
        "dc84ae786eff47e7a71056dd67d91500": {
          "model_module": "@jupyter-widgets/controls",
          "model_name": "HTMLModel",
          "model_module_version": "1.5.0",
          "state": {
            "_dom_classes": [],
            "_model_module": "@jupyter-widgets/controls",
            "_model_module_version": "1.5.0",
            "_model_name": "HTMLModel",
            "_view_count": null,
            "_view_module": "@jupyter-widgets/controls",
            "_view_module_version": "1.5.0",
            "_view_name": "HTMLView",
            "description": "",
            "description_tooltip": null,
            "layout": "IPY_MODEL_7f20795a070849dc8e48ab705dc62579",
            "placeholder": "​",
            "style": "IPY_MODEL_607ad9b7b4134be8ab744f12d9a2a1dc",
            "value": " 5/5 [00:01&lt;00:00,  3.44it/s]"
          }
        },
        "11767b1e916543dcb3a53f4cc968d3a0": {
          "model_module": "@jupyter-widgets/base",
          "model_name": "LayoutModel",
          "model_module_version": "1.2.0",
          "state": {
            "_model_module": "@jupyter-widgets/base",
            "_model_module_version": "1.2.0",
            "_model_name": "LayoutModel",
            "_view_count": null,
            "_view_module": "@jupyter-widgets/base",
            "_view_module_version": "1.2.0",
            "_view_name": "LayoutView",
            "align_content": null,
            "align_items": null,
            "align_self": null,
            "border": null,
            "bottom": null,
            "display": null,
            "flex": null,
            "flex_flow": null,
            "grid_area": null,
            "grid_auto_columns": null,
            "grid_auto_flow": null,
            "grid_auto_rows": null,
            "grid_column": null,
            "grid_gap": null,
            "grid_row": null,
            "grid_template_areas": null,
            "grid_template_columns": null,
            "grid_template_rows": null,
            "height": null,
            "justify_content": null,
            "justify_items": null,
            "left": null,
            "margin": null,
            "max_height": null,
            "max_width": null,
            "min_height": null,
            "min_width": null,
            "object_fit": null,
            "object_position": null,
            "order": null,
            "overflow": null,
            "overflow_x": null,
            "overflow_y": null,
            "padding": null,
            "right": null,
            "top": null,
            "visibility": null,
            "width": null
          }
        },
        "745b5a0e4118447b94c13bced00dc54b": {
          "model_module": "@jupyter-widgets/base",
          "model_name": "LayoutModel",
          "model_module_version": "1.2.0",
          "state": {
            "_model_module": "@jupyter-widgets/base",
            "_model_module_version": "1.2.0",
            "_model_name": "LayoutModel",
            "_view_count": null,
            "_view_module": "@jupyter-widgets/base",
            "_view_module_version": "1.2.0",
            "_view_name": "LayoutView",
            "align_content": null,
            "align_items": null,
            "align_self": null,
            "border": null,
            "bottom": null,
            "display": null,
            "flex": null,
            "flex_flow": null,
            "grid_area": null,
            "grid_auto_columns": null,
            "grid_auto_flow": null,
            "grid_auto_rows": null,
            "grid_column": null,
            "grid_gap": null,
            "grid_row": null,
            "grid_template_areas": null,
            "grid_template_columns": null,
            "grid_template_rows": null,
            "height": null,
            "justify_content": null,
            "justify_items": null,
            "left": null,
            "margin": null,
            "max_height": null,
            "max_width": null,
            "min_height": null,
            "min_width": null,
            "object_fit": null,
            "object_position": null,
            "order": null,
            "overflow": null,
            "overflow_x": null,
            "overflow_y": null,
            "padding": null,
            "right": null,
            "top": null,
            "visibility": null,
            "width": null
          }
        },
        "da605233804942e5aac17e9c2723d157": {
          "model_module": "@jupyter-widgets/controls",
          "model_name": "DescriptionStyleModel",
          "model_module_version": "1.5.0",
          "state": {
            "_model_module": "@jupyter-widgets/controls",
            "_model_module_version": "1.5.0",
            "_model_name": "DescriptionStyleModel",
            "_view_count": null,
            "_view_module": "@jupyter-widgets/base",
            "_view_module_version": "1.2.0",
            "_view_name": "StyleView",
            "description_width": ""
          }
        },
        "b322b33d135647f3a3c8007977caaffd": {
          "model_module": "@jupyter-widgets/base",
          "model_name": "LayoutModel",
          "model_module_version": "1.2.0",
          "state": {
            "_model_module": "@jupyter-widgets/base",
            "_model_module_version": "1.2.0",
            "_model_name": "LayoutModel",
            "_view_count": null,
            "_view_module": "@jupyter-widgets/base",
            "_view_module_version": "1.2.0",
            "_view_name": "LayoutView",
            "align_content": null,
            "align_items": null,
            "align_self": null,
            "border": null,
            "bottom": null,
            "display": null,
            "flex": null,
            "flex_flow": null,
            "grid_area": null,
            "grid_auto_columns": null,
            "grid_auto_flow": null,
            "grid_auto_rows": null,
            "grid_column": null,
            "grid_gap": null,
            "grid_row": null,
            "grid_template_areas": null,
            "grid_template_columns": null,
            "grid_template_rows": null,
            "height": null,
            "justify_content": null,
            "justify_items": null,
            "left": null,
            "margin": null,
            "max_height": null,
            "max_width": null,
            "min_height": null,
            "min_width": null,
            "object_fit": null,
            "object_position": null,
            "order": null,
            "overflow": null,
            "overflow_x": null,
            "overflow_y": null,
            "padding": null,
            "right": null,
            "top": null,
            "visibility": null,
            "width": null
          }
        },
        "f36ad5c34f5d4de2ae17794a6432bf8f": {
          "model_module": "@jupyter-widgets/controls",
          "model_name": "ProgressStyleModel",
          "model_module_version": "1.5.0",
          "state": {
            "_model_module": "@jupyter-widgets/controls",
            "_model_module_version": "1.5.0",
            "_model_name": "ProgressStyleModel",
            "_view_count": null,
            "_view_module": "@jupyter-widgets/base",
            "_view_module_version": "1.2.0",
            "_view_name": "StyleView",
            "bar_color": null,
            "description_width": ""
          }
        },
        "7f20795a070849dc8e48ab705dc62579": {
          "model_module": "@jupyter-widgets/base",
          "model_name": "LayoutModel",
          "model_module_version": "1.2.0",
          "state": {
            "_model_module": "@jupyter-widgets/base",
            "_model_module_version": "1.2.0",
            "_model_name": "LayoutModel",
            "_view_count": null,
            "_view_module": "@jupyter-widgets/base",
            "_view_module_version": "1.2.0",
            "_view_name": "LayoutView",
            "align_content": null,
            "align_items": null,
            "align_self": null,
            "border": null,
            "bottom": null,
            "display": null,
            "flex": null,
            "flex_flow": null,
            "grid_area": null,
            "grid_auto_columns": null,
            "grid_auto_flow": null,
            "grid_auto_rows": null,
            "grid_column": null,
            "grid_gap": null,
            "grid_row": null,
            "grid_template_areas": null,
            "grid_template_columns": null,
            "grid_template_rows": null,
            "height": null,
            "justify_content": null,
            "justify_items": null,
            "left": null,
            "margin": null,
            "max_height": null,
            "max_width": null,
            "min_height": null,
            "min_width": null,
            "object_fit": null,
            "object_position": null,
            "order": null,
            "overflow": null,
            "overflow_x": null,
            "overflow_y": null,
            "padding": null,
            "right": null,
            "top": null,
            "visibility": null,
            "width": null
          }
        },
        "607ad9b7b4134be8ab744f12d9a2a1dc": {
          "model_module": "@jupyter-widgets/controls",
          "model_name": "DescriptionStyleModel",
          "model_module_version": "1.5.0",
          "state": {
            "_model_module": "@jupyter-widgets/controls",
            "_model_module_version": "1.5.0",
            "_model_name": "DescriptionStyleModel",
            "_view_count": null,
            "_view_module": "@jupyter-widgets/base",
            "_view_module_version": "1.2.0",
            "_view_name": "StyleView",
            "description_width": ""
          }
        }
      }
    }
  },
  "cells": [
    {
      "cell_type": "markdown",
      "metadata": {
        "id": "view-in-github",
        "colab_type": "text"
      },
      "source": [
        "<a href=\"https://colab.research.google.com/github/Kh-Harakeh/LSTM-based-Flood-Risk-Prediction-System/blob/main/LSTM_based_Flood_Risk_Prediction_System.ipynb\" target=\"_parent\"><img src=\"https://colab.research.google.com/assets/colab-badge.svg\" alt=\"Open In Colab\"/></a>"
      ]
    },
    {
      "cell_type": "markdown",
      "source": [
        "#**Data Preparation**\n",
        "We simulate synthetic daily data for several locations. Each location has features rainfall (mm), temperature (°C), humidity (%) over 100 days. We label a flood event (1) whenever rainfall exceeds a high threshold (else 0)."
      ],
      "metadata": {
        "id": "sI13AkirTHKm"
      }
    },
    {
      "cell_type": "code",
      "source": [
        "!pip install optuna\n",
        "!pip install folium\n",
        "!pip install torch torchvision scikit-learn\n"
      ],
      "metadata": {
        "colab": {
          "base_uri": "https://localhost:8080/"
        },
        "id": "t0bMn4upUjgo",
        "outputId": "dcd3cf4f-5000-4e3d-b458-df278b679111"
      },
      "execution_count": 2,
      "outputs": [
        {
          "output_type": "stream",
          "name": "stdout",
          "text": [
            "Collecting optuna\n",
            "  Downloading optuna-4.3.0-py3-none-any.whl.metadata (17 kB)\n",
            "Collecting alembic>=1.5.0 (from optuna)\n",
            "  Downloading alembic-1.16.1-py3-none-any.whl.metadata (7.3 kB)\n",
            "Collecting colorlog (from optuna)\n",
            "  Downloading colorlog-6.9.0-py3-none-any.whl.metadata (10 kB)\n",
            "Requirement already satisfied: numpy in /usr/local/lib/python3.11/dist-packages (from optuna) (2.0.2)\n",
            "Requirement already satisfied: packaging>=20.0 in /usr/local/lib/python3.11/dist-packages (from optuna) (24.2)\n",
            "Requirement already satisfied: sqlalchemy>=1.4.2 in /usr/local/lib/python3.11/dist-packages (from optuna) (2.0.41)\n",
            "Requirement already satisfied: tqdm in /usr/local/lib/python3.11/dist-packages (from optuna) (4.67.1)\n",
            "Requirement already satisfied: PyYAML in /usr/local/lib/python3.11/dist-packages (from optuna) (6.0.2)\n",
            "Requirement already satisfied: Mako in /usr/lib/python3/dist-packages (from alembic>=1.5.0->optuna) (1.1.3)\n",
            "Requirement already satisfied: typing-extensions>=4.12 in /usr/local/lib/python3.11/dist-packages (from alembic>=1.5.0->optuna) (4.13.2)\n",
            "Requirement already satisfied: greenlet>=1 in /usr/local/lib/python3.11/dist-packages (from sqlalchemy>=1.4.2->optuna) (3.2.2)\n",
            "Downloading optuna-4.3.0-py3-none-any.whl (386 kB)\n",
            "\u001b[2K   \u001b[90m━━━━━━━━━━━━━━━━━━━━━━━━━━━━━━━━━━━━━━━━\u001b[0m \u001b[32m386.6/386.6 kB\u001b[0m \u001b[31m6.6 MB/s\u001b[0m eta \u001b[36m0:00:00\u001b[0m\n",
            "\u001b[?25hDownloading alembic-1.16.1-py3-none-any.whl (242 kB)\n",
            "\u001b[2K   \u001b[90m━━━━━━━━━━━━━━━━━━━━━━━━━━━━━━━━━━━━━━━━\u001b[0m \u001b[32m242.5/242.5 kB\u001b[0m \u001b[31m15.7 MB/s\u001b[0m eta \u001b[36m0:00:00\u001b[0m\n",
            "\u001b[?25hDownloading colorlog-6.9.0-py3-none-any.whl (11 kB)\n",
            "Installing collected packages: colorlog, alembic, optuna\n",
            "Successfully installed alembic-1.16.1 colorlog-6.9.0 optuna-4.3.0\n",
            "Requirement already satisfied: folium in /usr/local/lib/python3.11/dist-packages (0.19.6)\n",
            "Requirement already satisfied: branca>=0.6.0 in /usr/local/lib/python3.11/dist-packages (from folium) (0.8.1)\n",
            "Requirement already satisfied: jinja2>=2.9 in /usr/local/lib/python3.11/dist-packages (from folium) (3.1.6)\n",
            "Requirement already satisfied: numpy in /usr/local/lib/python3.11/dist-packages (from folium) (2.0.2)\n",
            "Requirement already satisfied: requests in /usr/local/lib/python3.11/dist-packages (from folium) (2.32.3)\n",
            "Requirement already satisfied: xyzservices in /usr/local/lib/python3.11/dist-packages (from folium) (2025.4.0)\n",
            "Requirement already satisfied: MarkupSafe>=2.0 in /usr/local/lib/python3.11/dist-packages (from jinja2>=2.9->folium) (3.0.2)\n",
            "Requirement already satisfied: charset-normalizer<4,>=2 in /usr/local/lib/python3.11/dist-packages (from requests->folium) (3.4.2)\n",
            "Requirement already satisfied: idna<4,>=2.5 in /usr/local/lib/python3.11/dist-packages (from requests->folium) (3.10)\n",
            "Requirement already satisfied: urllib3<3,>=1.21.1 in /usr/local/lib/python3.11/dist-packages (from requests->folium) (2.4.0)\n",
            "Requirement already satisfied: certifi>=2017.4.17 in /usr/local/lib/python3.11/dist-packages (from requests->folium) (2025.4.26)\n",
            "Requirement already satisfied: torch in /usr/local/lib/python3.11/dist-packages (2.6.0+cu124)\n",
            "Requirement already satisfied: torchvision in /usr/local/lib/python3.11/dist-packages (0.21.0+cu124)\n",
            "Requirement already satisfied: scikit-learn in /usr/local/lib/python3.11/dist-packages (1.6.1)\n",
            "Requirement already satisfied: filelock in /usr/local/lib/python3.11/dist-packages (from torch) (3.18.0)\n",
            "Requirement already satisfied: typing-extensions>=4.10.0 in /usr/local/lib/python3.11/dist-packages (from torch) (4.13.2)\n",
            "Requirement already satisfied: networkx in /usr/local/lib/python3.11/dist-packages (from torch) (3.4.2)\n",
            "Requirement already satisfied: jinja2 in /usr/local/lib/python3.11/dist-packages (from torch) (3.1.6)\n",
            "Requirement already satisfied: fsspec in /usr/local/lib/python3.11/dist-packages (from torch) (2025.3.2)\n",
            "Collecting nvidia-cuda-nvrtc-cu12==12.4.127 (from torch)\n",
            "  Downloading nvidia_cuda_nvrtc_cu12-12.4.127-py3-none-manylinux2014_x86_64.whl.metadata (1.5 kB)\n",
            "Collecting nvidia-cuda-runtime-cu12==12.4.127 (from torch)\n",
            "  Downloading nvidia_cuda_runtime_cu12-12.4.127-py3-none-manylinux2014_x86_64.whl.metadata (1.5 kB)\n",
            "Collecting nvidia-cuda-cupti-cu12==12.4.127 (from torch)\n",
            "  Downloading nvidia_cuda_cupti_cu12-12.4.127-py3-none-manylinux2014_x86_64.whl.metadata (1.6 kB)\n",
            "Collecting nvidia-cudnn-cu12==9.1.0.70 (from torch)\n",
            "  Downloading nvidia_cudnn_cu12-9.1.0.70-py3-none-manylinux2014_x86_64.whl.metadata (1.6 kB)\n",
            "Collecting nvidia-cublas-cu12==12.4.5.8 (from torch)\n",
            "  Downloading nvidia_cublas_cu12-12.4.5.8-py3-none-manylinux2014_x86_64.whl.metadata (1.5 kB)\n",
            "Collecting nvidia-cufft-cu12==11.2.1.3 (from torch)\n",
            "  Downloading nvidia_cufft_cu12-11.2.1.3-py3-none-manylinux2014_x86_64.whl.metadata (1.5 kB)\n",
            "Collecting nvidia-curand-cu12==10.3.5.147 (from torch)\n",
            "  Downloading nvidia_curand_cu12-10.3.5.147-py3-none-manylinux2014_x86_64.whl.metadata (1.5 kB)\n",
            "Collecting nvidia-cusolver-cu12==11.6.1.9 (from torch)\n",
            "  Downloading nvidia_cusolver_cu12-11.6.1.9-py3-none-manylinux2014_x86_64.whl.metadata (1.6 kB)\n",
            "Collecting nvidia-cusparse-cu12==12.3.1.170 (from torch)\n",
            "  Downloading nvidia_cusparse_cu12-12.3.1.170-py3-none-manylinux2014_x86_64.whl.metadata (1.6 kB)\n",
            "Requirement already satisfied: nvidia-cusparselt-cu12==0.6.2 in /usr/local/lib/python3.11/dist-packages (from torch) (0.6.2)\n",
            "Requirement already satisfied: nvidia-nccl-cu12==2.21.5 in /usr/local/lib/python3.11/dist-packages (from torch) (2.21.5)\n",
            "Requirement already satisfied: nvidia-nvtx-cu12==12.4.127 in /usr/local/lib/python3.11/dist-packages (from torch) (12.4.127)\n",
            "Collecting nvidia-nvjitlink-cu12==12.4.127 (from torch)\n",
            "  Downloading nvidia_nvjitlink_cu12-12.4.127-py3-none-manylinux2014_x86_64.whl.metadata (1.5 kB)\n",
            "Requirement already satisfied: triton==3.2.0 in /usr/local/lib/python3.11/dist-packages (from torch) (3.2.0)\n",
            "Requirement already satisfied: sympy==1.13.1 in /usr/local/lib/python3.11/dist-packages (from torch) (1.13.1)\n",
            "Requirement already satisfied: mpmath<1.4,>=1.1.0 in /usr/local/lib/python3.11/dist-packages (from sympy==1.13.1->torch) (1.3.0)\n",
            "Requirement already satisfied: numpy in /usr/local/lib/python3.11/dist-packages (from torchvision) (2.0.2)\n",
            "Requirement already satisfied: pillow!=8.3.*,>=5.3.0 in /usr/local/lib/python3.11/dist-packages (from torchvision) (11.2.1)\n",
            "Requirement already satisfied: scipy>=1.6.0 in /usr/local/lib/python3.11/dist-packages (from scikit-learn) (1.15.3)\n",
            "Requirement already satisfied: joblib>=1.2.0 in /usr/local/lib/python3.11/dist-packages (from scikit-learn) (1.5.0)\n",
            "Requirement already satisfied: threadpoolctl>=3.1.0 in /usr/local/lib/python3.11/dist-packages (from scikit-learn) (3.6.0)\n",
            "Requirement already satisfied: MarkupSafe>=2.0 in /usr/local/lib/python3.11/dist-packages (from jinja2->torch) (3.0.2)\n",
            "Downloading nvidia_cublas_cu12-12.4.5.8-py3-none-manylinux2014_x86_64.whl (363.4 MB)\n",
            "\u001b[2K   \u001b[90m━━━━━━━━━━━━━━━━━━━━━━━━━━━━━━━━━━━━━━━━\u001b[0m \u001b[32m363.4/363.4 MB\u001b[0m \u001b[31m1.6 MB/s\u001b[0m eta \u001b[36m0:00:00\u001b[0m\n",
            "\u001b[?25hDownloading nvidia_cuda_cupti_cu12-12.4.127-py3-none-manylinux2014_x86_64.whl (13.8 MB)\n",
            "\u001b[2K   \u001b[90m━━━━━━━━━━━━━━━━━━━━━━━━━━━━━━━━━━━━━━━━\u001b[0m \u001b[32m13.8/13.8 MB\u001b[0m \u001b[31m72.9 MB/s\u001b[0m eta \u001b[36m0:00:00\u001b[0m\n",
            "\u001b[?25hDownloading nvidia_cuda_nvrtc_cu12-12.4.127-py3-none-manylinux2014_x86_64.whl (24.6 MB)\n",
            "\u001b[2K   \u001b[90m━━━━━━━━━━━━━━━━━━━━━━━━━━━━━━━━━━━━━━━━\u001b[0m \u001b[32m24.6/24.6 MB\u001b[0m \u001b[31m58.5 MB/s\u001b[0m eta \u001b[36m0:00:00\u001b[0m\n",
            "\u001b[?25hDownloading nvidia_cuda_runtime_cu12-12.4.127-py3-none-manylinux2014_x86_64.whl (883 kB)\n",
            "\u001b[2K   \u001b[90m━━━━━━━━━━━━━━━━━━━━━━━━━━━━━━━━━━━━━━━━\u001b[0m \u001b[32m883.7/883.7 kB\u001b[0m \u001b[31m42.4 MB/s\u001b[0m eta \u001b[36m0:00:00\u001b[0m\n",
            "\u001b[?25hDownloading nvidia_cudnn_cu12-9.1.0.70-py3-none-manylinux2014_x86_64.whl (664.8 MB)\n",
            "\u001b[2K   \u001b[90m━━━━━━━━━━━━━━━━━━━━━━━━━━━━━━━━━━━━━━━━\u001b[0m \u001b[32m664.8/664.8 MB\u001b[0m \u001b[31m1.2 MB/s\u001b[0m eta \u001b[36m0:00:00\u001b[0m\n",
            "\u001b[?25hDownloading nvidia_cufft_cu12-11.2.1.3-py3-none-manylinux2014_x86_64.whl (211.5 MB)\n",
            "\u001b[2K   \u001b[90m━━━━━━━━━━━━━━━━━━━━━━━━━━━━━━━━━━━━━━━━\u001b[0m \u001b[32m211.5/211.5 MB\u001b[0m \u001b[31m6.1 MB/s\u001b[0m eta \u001b[36m0:00:00\u001b[0m\n",
            "\u001b[?25hDownloading nvidia_curand_cu12-10.3.5.147-py3-none-manylinux2014_x86_64.whl (56.3 MB)\n",
            "\u001b[2K   \u001b[90m━━━━━━━━━━━━━━━━━━━━━━━━━━━━━━━━━━━━━━━━\u001b[0m \u001b[32m56.3/56.3 MB\u001b[0m \u001b[31m12.4 MB/s\u001b[0m eta \u001b[36m0:00:00\u001b[0m\n",
            "\u001b[?25hDownloading nvidia_cusolver_cu12-11.6.1.9-py3-none-manylinux2014_x86_64.whl (127.9 MB)\n",
            "\u001b[2K   \u001b[90m━━━━━━━━━━━━━━━━━━━━━━━━━━━━━━━━━━━━━━━━\u001b[0m \u001b[32m127.9/127.9 MB\u001b[0m \u001b[31m7.3 MB/s\u001b[0m eta \u001b[36m0:00:00\u001b[0m\n",
            "\u001b[?25hDownloading nvidia_cusparse_cu12-12.3.1.170-py3-none-manylinux2014_x86_64.whl (207.5 MB)\n",
            "\u001b[2K   \u001b[90m━━━━━━━━━━━━━━━━━━━━━━━━━━━━━━━━━━━━━━━━\u001b[0m \u001b[32m207.5/207.5 MB\u001b[0m \u001b[31m5.8 MB/s\u001b[0m eta \u001b[36m0:00:00\u001b[0m\n",
            "\u001b[?25hDownloading nvidia_nvjitlink_cu12-12.4.127-py3-none-manylinux2014_x86_64.whl (21.1 MB)\n",
            "\u001b[2K   \u001b[90m━━━━━━━━━━━━━━━━━━━━━━━━━━━━━━━━━━━━━━━━\u001b[0m \u001b[32m21.1/21.1 MB\u001b[0m \u001b[31m83.4 MB/s\u001b[0m eta \u001b[36m0:00:00\u001b[0m\n",
            "\u001b[?25hInstalling collected packages: nvidia-nvjitlink-cu12, nvidia-curand-cu12, nvidia-cufft-cu12, nvidia-cuda-runtime-cu12, nvidia-cuda-nvrtc-cu12, nvidia-cuda-cupti-cu12, nvidia-cublas-cu12, nvidia-cusparse-cu12, nvidia-cudnn-cu12, nvidia-cusolver-cu12\n",
            "  Attempting uninstall: nvidia-nvjitlink-cu12\n",
            "    Found existing installation: nvidia-nvjitlink-cu12 12.5.82\n",
            "    Uninstalling nvidia-nvjitlink-cu12-12.5.82:\n",
            "      Successfully uninstalled nvidia-nvjitlink-cu12-12.5.82\n",
            "  Attempting uninstall: nvidia-curand-cu12\n",
            "    Found existing installation: nvidia-curand-cu12 10.3.6.82\n",
            "    Uninstalling nvidia-curand-cu12-10.3.6.82:\n",
            "      Successfully uninstalled nvidia-curand-cu12-10.3.6.82\n",
            "  Attempting uninstall: nvidia-cufft-cu12\n",
            "    Found existing installation: nvidia-cufft-cu12 11.2.3.61\n",
            "    Uninstalling nvidia-cufft-cu12-11.2.3.61:\n",
            "      Successfully uninstalled nvidia-cufft-cu12-11.2.3.61\n",
            "  Attempting uninstall: nvidia-cuda-runtime-cu12\n",
            "    Found existing installation: nvidia-cuda-runtime-cu12 12.5.82\n",
            "    Uninstalling nvidia-cuda-runtime-cu12-12.5.82:\n",
            "      Successfully uninstalled nvidia-cuda-runtime-cu12-12.5.82\n",
            "  Attempting uninstall: nvidia-cuda-nvrtc-cu12\n",
            "    Found existing installation: nvidia-cuda-nvrtc-cu12 12.5.82\n",
            "    Uninstalling nvidia-cuda-nvrtc-cu12-12.5.82:\n",
            "      Successfully uninstalled nvidia-cuda-nvrtc-cu12-12.5.82\n",
            "  Attempting uninstall: nvidia-cuda-cupti-cu12\n",
            "    Found existing installation: nvidia-cuda-cupti-cu12 12.5.82\n",
            "    Uninstalling nvidia-cuda-cupti-cu12-12.5.82:\n",
            "      Successfully uninstalled nvidia-cuda-cupti-cu12-12.5.82\n",
            "  Attempting uninstall: nvidia-cublas-cu12\n",
            "    Found existing installation: nvidia-cublas-cu12 12.5.3.2\n",
            "    Uninstalling nvidia-cublas-cu12-12.5.3.2:\n",
            "      Successfully uninstalled nvidia-cublas-cu12-12.5.3.2\n",
            "  Attempting uninstall: nvidia-cusparse-cu12\n",
            "    Found existing installation: nvidia-cusparse-cu12 12.5.1.3\n",
            "    Uninstalling nvidia-cusparse-cu12-12.5.1.3:\n",
            "      Successfully uninstalled nvidia-cusparse-cu12-12.5.1.3\n",
            "  Attempting uninstall: nvidia-cudnn-cu12\n",
            "    Found existing installation: nvidia-cudnn-cu12 9.3.0.75\n",
            "    Uninstalling nvidia-cudnn-cu12-9.3.0.75:\n",
            "      Successfully uninstalled nvidia-cudnn-cu12-9.3.0.75\n",
            "  Attempting uninstall: nvidia-cusolver-cu12\n",
            "    Found existing installation: nvidia-cusolver-cu12 11.6.3.83\n",
            "    Uninstalling nvidia-cusolver-cu12-11.6.3.83:\n",
            "      Successfully uninstalled nvidia-cusolver-cu12-11.6.3.83\n",
            "Successfully installed nvidia-cublas-cu12-12.4.5.8 nvidia-cuda-cupti-cu12-12.4.127 nvidia-cuda-nvrtc-cu12-12.4.127 nvidia-cuda-runtime-cu12-12.4.127 nvidia-cudnn-cu12-9.1.0.70 nvidia-cufft-cu12-11.2.1.3 nvidia-curand-cu12-10.3.5.147 nvidia-cusolver-cu12-11.6.1.9 nvidia-cusparse-cu12-12.3.1.170 nvidia-nvjitlink-cu12-12.4.127\n"
          ]
        }
      ]
    },
    {
      "cell_type": "code",
      "execution_count": 3,
      "metadata": {
        "colab": {
          "base_uri": "https://localhost:8080/"
        },
        "id": "kdBaeYRYSwCq",
        "outputId": "4ba264eb-6420-4e3c-d376-8e532cd5406e"
      },
      "outputs": [
        {
          "output_type": "stream",
          "name": "stdout",
          "text": [
            "        date   latitude  longitude   rainfall  temperature   humidity  flood\n",
            "0 2020-01-01  18.861663  78.835584  64.967142    23.633725  61.788937      0\n",
            "1 2020-01-02  18.861663  78.835584  61.788553    25.854531  63.882324      0\n",
            "2 2020-01-03  18.861663  78.835584  72.806508    26.255053  67.527450      0\n",
            "3 2020-01-04  18.861663  78.835584  84.692861    25.592907  68.366225      0\n",
            "4 2020-01-05  18.861663  78.835584  70.215866    27.143155  57.141151      0\n"
          ]
        }
      ],
      "source": [
        "import numpy as np\n",
        "import pandas as pd\n",
        "import torch\n",
        "import torch.nn as nn\n",
        "import torch.optim as optim\n",
        "from torch.utils.data import DataLoader, TensorDataset, random_split\n",
        "import optuna\n",
        "import shap\n",
        "import folium\n",
        "\n",
        "# Reproducibility\n",
        "np.random.seed(42)\n",
        "torch.manual_seed(42)\n",
        "\n",
        "# Define locations (latitude, longitude) for simulation\n",
        "locations = [\n",
        "    (18.86166345, 78.83558374),  # e.g., Hyderabad region\n",
        "    (35.57071489, 77.65445079),  # e.g., Kashmir region\n",
        "    (29.22782431, 73.10846346),  # e.g., Punjab region\n",
        "    (25.36109604, 85.61073343),  # e.g., Bihar region\n",
        "    (12.52454057, 81.82210065)   # e.g., Tamil Nadu region\n",
        "]\n",
        "n_loc = len(locations)\n",
        "days = 100\n",
        "dates = pd.date_range(\"2020-01-01\", periods=days, freq='D')\n",
        "\n",
        "# Simulate features for each location and day\n",
        "rain = np.zeros((n_loc, days))\n",
        "temp = np.zeros((n_loc, days))\n",
        "hum  = np.zeros((n_loc, days))\n",
        "\n",
        "for i in range(n_loc):\n",
        "    # base seasonal rainfall (sinusoidal plus noise)\n",
        "    base_rain = 50 * np.sin(np.linspace(0, 2*np.pi, days)) + 60\n",
        "    rain[i] = base_rain + np.random.normal(scale=10, size=days)\n",
        "    # temperature: warmer mid-period\n",
        "    temp[i] = 30 + 5 * np.sin(np.linspace(0, 2*np.pi, days) - np.pi/4) + np.random.normal(scale=2, size=days)\n",
        "    # humidity: correlated with rainfall\n",
        "    hum[i] = 50 + 20 * np.sin(np.linspace(0, 2*np.pi, days) + np.pi/6) + np.random.normal(scale=5, size=days)\n",
        "\n",
        "# Make sure no negative values\n",
        "rain = np.clip(rain, 0, None)\n",
        "\n",
        "# Determine flood label: 1 if rainfall exceeds 90th percentile threshold\n",
        "rain_threshold = np.percentile(rain, 90)\n",
        "flood_label = (rain >= rain_threshold).astype(int)\n",
        "\n",
        "# Combine into a DataFrame for clarity (not used directly in model)\n",
        "data_records = []\n",
        "for i, (lat, lon) in enumerate(locations):\n",
        "    for t in range(days):\n",
        "        data_records.append({\n",
        "            'date': dates[t],\n",
        "            'latitude': lat,\n",
        "            'longitude': lon,\n",
        "            'rainfall': rain[i,t],\n",
        "            'temperature': temp[i,t],\n",
        "            'humidity': hum[i,t],\n",
        "            'flood': flood_label[i,t]\n",
        "        })\n",
        "df = pd.DataFrame(data_records)\n",
        "print(df.head())\n"
      ]
    },
    {
      "cell_type": "markdown",
      "source": [
        "#**Creating Time-Series Sequences**\n",
        "We train the LSTM to predict the next-day flood risk from the previous 7 days of weather. We construct input sequences of length 7 (past 7 days of features) and the label is the flood/no-flood on day 8. Each location contributes a series of samples."
      ],
      "metadata": {
        "id": "KIpprZfSS2DJ"
      }
    },
    {
      "cell_type": "code",
      "source": [
        "# Sequence length (number of past days)\n",
        "seq_len = 7\n",
        "\n",
        "X = []\n",
        "y = []\n",
        "for i in range(n_loc):\n",
        "    for start in range(days - seq_len):\n",
        "        seq_features = np.stack([rain[i, start:start+seq_len],\n",
        "                                  temp[i, start:start+seq_len],\n",
        "                                  hum[i, start:start+seq_len]], axis=1)  # shape (seq_len, 3)\n",
        "        X.append(seq_features)\n",
        "        y.append(flood_label[i, start+seq_len])  # next day label\n",
        "\n",
        "X = np.stack(X)  # shape (num_samples, seq_len, 3)\n",
        "y = np.array(y)  # shape (num_samples,)\n",
        "print(f\"Constructed dataset: X={X.shape}, y={y.shape}, positive labels={y.sum()}\")\n",
        "\n",
        "# Split into training and test sets\n",
        "dataset = TensorDataset(torch.tensor(X, dtype=torch.float32),\n",
        "                        torch.tensor(y, dtype=torch.float32))\n",
        "n_train = int(0.8 * len(dataset))\n",
        "n_test = len(dataset) - n_train\n",
        "train_dataset, test_dataset = random_split(dataset, [n_train, n_test])\n",
        "train_loader = DataLoader(train_dataset, batch_size=16, shuffle=True)\n",
        "test_loader  = DataLoader(test_dataset,  batch_size=16)\n"
      ],
      "metadata": {
        "colab": {
          "base_uri": "https://localhost:8080/"
        },
        "id": "7fKl6tSzSyLB",
        "outputId": "b156edb7-824f-437d-e7f2-514ee2fe4db2"
      },
      "execution_count": 4,
      "outputs": [
        {
          "output_type": "stream",
          "name": "stdout",
          "text": [
            "Constructed dataset: X=(465, 7, 3), y=(465,), positive labels=50\n"
          ]
        }
      ]
    },
    {
      "cell_type": "markdown",
      "source": [
        "#**LSTM Model Training**\n",
        "We define a simple LSTM-based classifier in PyTorch. The model takes input shape (seq_len, features) and outputs a probability of flood. We use binary cross-entropy loss."
      ],
      "metadata": {
        "id": "XlB3vf6nTX5S"
      }
    },
    {
      "cell_type": "code",
      "source": [
        "class LSTMClassifier(nn.Module):\n",
        "    def __init__(self, input_size=3, hidden_size=32, num_layers=1):\n",
        "        super().__init__()\n",
        "        self.lstm = nn.LSTM(input_size, hidden_size, num_layers, batch_first=True)\n",
        "        self.out = nn.Linear(hidden_size, 1)  # binary output\n",
        "    def forward(self, x):\n",
        "        # x: (batch, seq_len, features)\n",
        "        h, _ = self.lstm(x)              # h: (batch, seq_len, hidden)\n",
        "        out = self.out(h[:, -1, :])      # use last time-step's output\n",
        "        return out.squeeze(1)            # (batch,)\n",
        "\n",
        "# Train function\n",
        "def train_model(model, loader, optimizer, criterion):\n",
        "    model.train()\n",
        "    for X_batch, y_batch in loader:\n",
        "        optimizer.zero_grad()\n",
        "        preds = model(X_batch)\n",
        "        loss = criterion(preds, y_batch)\n",
        "        loss.backward()\n",
        "        optimizer.step()\n",
        "\n",
        "# Evaluation on test set (compute accuracy)\n",
        "def eval_model(model, loader):\n",
        "    model.eval()\n",
        "    total, correct = 0, 0\n",
        "    with torch.no_grad():\n",
        "        for X_batch, y_batch in loader:\n",
        "            logits = model(X_batch)\n",
        "            preds = (torch.sigmoid(logits) >= 0.5).float()\n",
        "            correct += (preds == y_batch).sum().item()\n",
        "            total += y_batch.size(0)\n",
        "    return correct / total\n",
        "\n",
        "# Instantiate and train the model with default hyperparameters\n",
        "model = LSTMClassifier(hidden_size=32)\n",
        "optimizer = optim.Adam(model.parameters(), lr=0.01)\n",
        "criterion = nn.BCEWithLogitsLoss()\n",
        "\n",
        "for epoch in range(5):\n",
        "    train_model(model, train_loader, optimizer, criterion)\n",
        "acc = eval_model(model, test_loader)\n",
        "print(f\"Test accuracy (baseline model): {acc:.3f}\")\n"
      ],
      "metadata": {
        "colab": {
          "base_uri": "https://localhost:8080/"
        },
        "id": "kz7JntfrTiud",
        "outputId": "d5514ff0-c284-41d3-a77a-500ea036fdf0"
      },
      "execution_count": 5,
      "outputs": [
        {
          "output_type": "stream",
          "name": "stdout",
          "text": [
            "Test accuracy (baseline model): 0.903\n"
          ]
        }
      ]
    },
    {
      "cell_type": "markdown",
      "source": [
        "#**Hyperparameter Tuning with Optuna**\n",
        "We use Optuna to tune the hidden size and learning rate. For each trial, we train for a few epochs and report test loss."
      ],
      "metadata": {
        "id": "Eqcz4Cd8Ttw5"
      }
    },
    {
      "cell_type": "code",
      "source": [
        "def objective(trial):\n",
        "    # Suggest hyperparameters\n",
        "    hidden_size = trial.suggest_int(\"hidden_size\", 8, 64)\n",
        "    lr = trial.suggest_loguniform(\"lr\", 1e-4, 1e-1)\n",
        "\n",
        "    # Create model and optimizer\n",
        "    model_t = LSTMClassifier(hidden_size=hidden_size)\n",
        "    optimizer_t = optim.Adam(model_t.parameters(), lr=lr)\n",
        "    criterion_t = nn.BCEWithLogitsLoss()\n",
        "\n",
        "    # Quick train (e.g., 3 epochs for tuning)\n",
        "    for _ in range(3):\n",
        "        train_model(model_t, train_loader, optimizer_t, criterion_t)\n",
        "    # Evaluate on validation (we use test_loader for simplicity)\n",
        "    model_t.eval()\n",
        "    losses = []\n",
        "    with torch.no_grad():\n",
        "        for X_batch, y_batch in test_loader:\n",
        "            logits = model_t(X_batch)\n",
        "            loss = criterion_t(logits, y_batch).item()\n",
        "            losses.append(loss)\n",
        "    # Return average loss\n",
        "    return float(np.mean(losses))\n",
        "\n",
        "# Run Optuna study\n",
        "study = optuna.create_study(direction=\"minimize\")\n",
        "study.optimize(objective, n_trials=10)\n",
        "print(\"Best hyperparameters:\", study.best_params)\n",
        "\n",
        "# Train final model with best hyperparameters\n",
        "best_hidden = study.best_params[\"hidden_size\"]\n",
        "best_lr = study.best_params[\"lr\"]\n",
        "model = LSTMClassifier(hidden_size=best_hidden)\n",
        "optimizer = optim.Adam(model.parameters(), lr=best_lr)\n",
        "for epoch in range(5):\n",
        "    train_model(model, train_loader, optimizer, criterion)\n",
        "print(f\"Test accuracy (tuned model): {eval_model(model, test_loader):.3f}\")\n"
      ],
      "metadata": {
        "colab": {
          "base_uri": "https://localhost:8080/"
        },
        "id": "VwuieoWkTxNs",
        "outputId": "9b3678d4-1f73-4908-85f7-af7d15940a0c"
      },
      "execution_count": 6,
      "outputs": [
        {
          "output_type": "stream",
          "name": "stderr",
          "text": [
            "[I 2025-05-27 20:00:19,222] A new study created in memory with name: no-name-924f1c64-d577-4e09-8575-d0aeb8dfbd7b\n",
            "<ipython-input-6-360ef443803d>:4: FutureWarning: suggest_loguniform has been deprecated in v3.0.0. This feature will be removed in v6.0.0. See https://github.com/optuna/optuna/releases/tag/v3.0.0. Use suggest_float(..., log=True) instead.\n",
            "  lr = trial.suggest_loguniform(\"lr\", 1e-4, 1e-1)\n",
            "[I 2025-05-27 20:00:19,776] Trial 0 finished with value: 0.22638293852408728 and parameters: {'hidden_size': 47, 'lr': 0.0013332657831184793}. Best is trial 0 with value: 0.22638293852408728.\n",
            "[I 2025-05-27 20:00:20,231] Trial 1 finished with value: 0.31654901305834454 and parameters: {'hidden_size': 16, 'lr': 0.09085405970733562}. Best is trial 0 with value: 0.22638293852408728.\n",
            "[I 2025-05-27 20:00:21,052] Trial 2 finished with value: 0.27705761045217514 and parameters: {'hidden_size': 62, 'lr': 0.031351582612208564}. Best is trial 0 with value: 0.22638293852408728.\n",
            "[I 2025-05-27 20:00:21,392] Trial 3 finished with value: 0.260418380300204 and parameters: {'hidden_size': 9, 'lr': 0.029608181588123422}. Best is trial 0 with value: 0.22638293852408728.\n",
            "[I 2025-05-27 20:00:21,805] Trial 4 finished with value: 0.22969581683476767 and parameters: {'hidden_size': 36, 'lr': 0.005109536320731537}. Best is trial 0 with value: 0.22638293852408728.\n",
            "[I 2025-05-27 20:00:22,148] Trial 5 finished with value: 0.6368124186992645 and parameters: {'hidden_size': 9, 'lr': 0.00021716793989002317}. Best is trial 0 with value: 0.22638293852408728.\n",
            "[I 2025-05-27 20:00:22,579] Trial 6 finished with value: 0.2164657562971115 and parameters: {'hidden_size': 46, 'lr': 0.0018886932123276274}. Best is trial 6 with value: 0.2164657562971115.\n",
            "[I 2025-05-27 20:00:23,319] Trial 7 finished with value: 0.2533588260412216 and parameters: {'hidden_size': 26, 'lr': 0.025337334295375453}. Best is trial 6 with value: 0.2164657562971115.\n",
            "[I 2025-05-27 20:00:23,616] Trial 8 finished with value: 0.4044785002867381 and parameters: {'hidden_size': 37, 'lr': 0.0003214044704003452}. Best is trial 6 with value: 0.2164657562971115.\n",
            "[I 2025-05-27 20:00:24,178] Trial 9 finished with value: 0.24705355366071066 and parameters: {'hidden_size': 58, 'lr': 0.037546994362513804}. Best is trial 6 with value: 0.2164657562971115.\n"
          ]
        },
        {
          "output_type": "stream",
          "name": "stdout",
          "text": [
            "Best hyperparameters: {'hidden_size': 46, 'lr': 0.0018886932123276274}\n",
            "Test accuracy (tuned model): 0.903\n"
          ]
        }
      ]
    },
    {
      "cell_type": "markdown",
      "source": [
        "#**Feature Importance with SHAP**\n",
        "We interpret the trained model using SHAP values. We use a small subset of training data as background for a KernelExplainer. SHAP values indicate how much each feature contributed to the model’s flood prediction."
      ],
      "metadata": {
        "id": "pp-K1joWTz-f"
      }
    },
    {
      "cell_type": "code",
      "source": [
        "seq_len = X_train_sample.shape[1]\n",
        "n_features = X_train_sample.shape[2]\n",
        "\n",
        "# 1. Prepare background and test arrays, flattened\n",
        "flat_background = X_train_sample.reshape(50, -1)\n",
        "flat_test       = X_test_sample.reshape(5, -1)\n",
        "\n",
        "# 2. Define a flat-input prediction function\n",
        "def predict_proba_flat(x_flat: np.ndarray) -> np.ndarray:\n",
        "    \"\"\"\n",
        "    x_flat: shape (batch_size, seq_len * n_features)\n",
        "    Returns flood probability: shape (batch_size,)\n",
        "    \"\"\"\n",
        "    # reshape back to (batch, seq_len, n_features)\n",
        "    x_seq = x_flat.reshape(-1, seq_len, n_features)\n",
        "    x_tensor = torch.tensor(x_seq, dtype=torch.float32)\n",
        "    with torch.no_grad():\n",
        "        logits = model(x_tensor)                # (batch,)\n",
        "        probs  = torch.sigmoid(logits).numpy()  # (batch,)\n",
        "    return probs\n",
        "\n",
        "# 3. Build the SHAP explainer on the flat background\n",
        "explainer = shap.KernelExplainer(predict_proba_flat, flat_background)\n",
        "\n",
        "# 4. Compute SHAP values on the flat test set\n",
        "shap_values_flat = explainer.shap_values(flat_test, nsamples=100)\n",
        "shap_values_flat = np.array(shap_values_flat)  # shape (5, 21)\n",
        "\n",
        "print(\"SHAP values shape (samples, seq_len * features):\", shap_values_flat.shape)\n"
      ],
      "metadata": {
        "colab": {
          "base_uri": "https://localhost:8080/",
          "height": 67,
          "referenced_widgets": [
            "8fd31cb20082466eae0bae9325c89b6e",
            "c2b6522a27744d9a84d1778a137ab1bb",
            "76519c72e83b4efca09d92685003d969",
            "dc84ae786eff47e7a71056dd67d91500",
            "11767b1e916543dcb3a53f4cc968d3a0",
            "745b5a0e4118447b94c13bced00dc54b",
            "da605233804942e5aac17e9c2723d157",
            "b322b33d135647f3a3c8007977caaffd",
            "f36ad5c34f5d4de2ae17794a6432bf8f",
            "7f20795a070849dc8e48ab705dc62579",
            "607ad9b7b4134be8ab744f12d9a2a1dc"
          ]
        },
        "id": "bPh-zAKhT7Bt",
        "outputId": "f3e5f2cc-9ec4-467d-c44d-d5587d5f1d6f"
      },
      "execution_count": 8,
      "outputs": [
        {
          "output_type": "display_data",
          "data": {
            "text/plain": [
              "  0%|          | 0/5 [00:00<?, ?it/s]"
            ],
            "application/vnd.jupyter.widget-view+json": {
              "version_major": 2,
              "version_minor": 0,
              "model_id": "8fd31cb20082466eae0bae9325c89b6e"
            }
          },
          "metadata": {}
        },
        {
          "output_type": "stream",
          "name": "stdout",
          "text": [
            "SHAP values shape (samples, seq_len * features): (5, 21)\n"
          ]
        }
      ]
    },
    {
      "cell_type": "markdown",
      "source": [
        "#**Visualization on Map**\n",
        "Finally, we visualize the predicted flood probabilities for each location on a map. We take the last 7 days of data for each location and predict the probability of flood. The markers are sized by flood risk.\n"
      ],
      "metadata": {
        "id": "GB8r7nTZT9ps"
      }
    },
    {
      "cell_type": "code",
      "source": [
        "final_seq = []\n",
        "for i in range(n_loc):\n",
        "    seq = np.stack([rain[i, -seq_len:],\n",
        "                    temp[i, -seq_len:],\n",
        "                    hum[i, -seq_len:]], axis=1)\n",
        "    final_seq.append(seq)\n",
        "final_seq = np.stack(final_seq)  # (n_loc, seq_len, 3)\n",
        "final_logits = model(torch.tensor(final_seq, dtype=torch.float32))\n",
        "final_probs = torch.sigmoid(final_logits).detach().numpy()\n",
        "\n",
        "# Create Folium map and add markers (with float casts):\n",
        "m = folium.Map(location=[float(np.mean([lat for lat, _ in locations])),\n",
        "                         float(np.mean([lon for _, lon in locations]))],\n",
        "               zoom_start=6)\n",
        "\n",
        "for (lat, lon), prob in zip(locations, final_probs):\n",
        "    folium.CircleMarker(\n",
        "        location=[float(lat), float(lon)],        # cast to native float\n",
        "        radius=5 + float(prob) * 10,              # cast prob to float\n",
        "        color='red' if prob > 0.5 else 'blue',\n",
        "        fill=True,\n",
        "        fill_opacity=0.7,\n",
        "        popup=f\"Flood Probability: {float(prob):.2f}\"\n",
        "    ).add_to(m)\n",
        "\n",
        "m.save(\"predicted_flood_risk_map.html\")\n",
        "print(\"Map saved to predicted_flood_risk_map.html\")"
      ],
      "metadata": {
        "colab": {
          "base_uri": "https://localhost:8080/"
        },
        "id": "LCXGDz6bUFk8",
        "outputId": "4efaa524-986a-4312-eee5-3b35eb386c06"
      },
      "execution_count": 10,
      "outputs": [
        {
          "output_type": "stream",
          "name": "stdout",
          "text": [
            "Map saved to predicted_flood_risk_map.html\n"
          ]
        }
      ]
    }
  ]
}